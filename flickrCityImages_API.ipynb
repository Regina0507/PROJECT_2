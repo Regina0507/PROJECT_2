{
 "cells": [
  {
   "cell_type": "code",
   "execution_count": 1,
   "metadata": {},
   "outputs": [],
   "source": [
    "# Dependencies\n",
    "import requests\n",
    "from pprint import pprint\n",
    "import json\n",
    "import random\n",
    "from config import api_key\n",
    "\n",
    "url = \"https://www.flickr.com/services/rest/\""
   ]
  },
  {
   "cell_type": "code",
   "execution_count": 2,
   "metadata": {},
   "outputs": [
    {
     "name": "stdout",
     "output_type": "stream",
     "text": [
      "What you want? new york\n"
     ]
    }
   ],
   "source": [
    "# Build query URL\n",
    "search_term = input('What you want? ')\n",
    "\n",
    "params = {\n",
    "    'api_key':api_key,\n",
    "    'method':'flickr.photos.search',\n",
    "    'gallery_id':'72157717975362972',\n",
    "    'format':'json',\n",
    "    'text': search_term,\n",
    "    'tag': search_term\n",
    "}\n",
    "\n",
    "response = requests.get(url, params=params)"
   ]
  },
  {
   "cell_type": "code",
   "execution_count": 3,
   "metadata": {},
   "outputs": [],
   "source": [
    "json_hack = response.text\n",
    "json_hack = json_hack.strip('jsonFlickrApi(')\n",
    "json_hack = json_hack[0:-1]"
   ]
  },
  {
   "cell_type": "code",
   "execution_count": 4,
   "metadata": {},
   "outputs": [],
   "source": [
    "flickr_response = json.loads(json_hack)"
   ]
  },
  {
   "cell_type": "code",
   "execution_count": 5,
   "metadata": {
    "scrolled": true
   },
   "outputs": [
    {
     "name": "stdout",
     "output_type": "stream",
     "text": [
      "http://farm66.static.flickr.com/65535/50920111371_b2cf623236.jpg\n",
      "http://farm66.static.flickr.com/65535/50919418833_15ca43a22f.jpg\n",
      "http://farm66.static.flickr.com/65535/50920110506_64dd7880b0.jpg\n",
      "http://farm66.static.flickr.com/65535/50920110016_bfab687ee7.jpg\n",
      "http://farm66.static.flickr.com/65535/50920240857_f474e7f19f.jpg\n",
      "http://farm66.static.flickr.com/65535/50920240202_774401b5bd.jpg\n",
      "http://farm66.static.flickr.com/65535/50920108041_f0dcdfbf41.jpg\n",
      "http://farm66.static.flickr.com/65535/50920238892_f4a236c303.jpg\n",
      "http://farm66.static.flickr.com/65535/50920238497_52ac25c35d.jpg\n",
      "http://farm66.static.flickr.com/65535/50920238057_06d084515a.jpg\n",
      "http://farm66.static.flickr.com/65535/50920105941_5dc4c2326b.jpg\n",
      "http://farm66.static.flickr.com/65535/50920105526_6f5c791e54.jpg\n",
      "http://farm0.static.flickr.com/0/50919398298_ee45dd58c7.jpg\n",
      "http://farm0.static.flickr.com/0/50920226157_d89ca02cc4.jpg\n",
      "http://farm0.static.flickr.com/0/50920087661_b1d75045f4.jpg\n",
      "http://farm0.static.flickr.com/0/50920228687_137307d60c.jpg\n",
      "http://farm66.static.flickr.com/65535/50919413008_fca25cb721.jpg\n",
      "http://farm66.static.flickr.com/65535/50920235682_a34fb8299a.jpg\n",
      "http://farm66.static.flickr.com/65535/50919411613_7a7084e0a1.jpg\n",
      "http://farm66.static.flickr.com/65535/50920103066_438490200f.jpg\n",
      "http://farm66.static.flickr.com/65535/50920233787_078fc10afd.jpg\n",
      "http://farm66.static.flickr.com/65535/50920101711_4b74d702c0.jpg\n",
      "http://farm66.static.flickr.com/65535/50920232342_8f34dee614.jpg\n",
      "http://farm66.static.flickr.com/65535/50920231782_7f6214c3d9.jpg\n",
      "http://farm66.static.flickr.com/65535/50920099861_8f173b420d.jpg\n",
      "http://farm66.static.flickr.com/65535/50920100116_10dcf79ee6.jpg\n",
      "http://farm66.static.flickr.com/65535/50920230947_f82d390faa.jpg\n",
      "http://farm66.static.flickr.com/65535/50919406893_405e1ef99f.jpg\n",
      "http://farm66.static.flickr.com/65535/50919406298_6163b3c980.jpg\n",
      "http://farm66.static.flickr.com/65535/50919405788_9613eb8a00.jpg\n",
      "http://farm66.static.flickr.com/65535/50919404893_bb2e5e6b1f.jpg\n",
      "http://farm66.static.flickr.com/65535/50920096086_dc1cbbd018.jpg\n",
      "http://farm66.static.flickr.com/65535/50919403798_b348bd2147.jpg\n",
      "http://farm66.static.flickr.com/65535/50920094456_9625d43d6a.jpg\n",
      "http://farm66.static.flickr.com/65535/50919401993_a85f68548b.jpg\n",
      "http://farm66.static.flickr.com/65535/50920224647_61ba640326.jpg\n",
      "http://farm66.static.flickr.com/65535/50920092151_ff26d5f9dc.jpg\n",
      "http://farm66.static.flickr.com/65535/50919400003_7a4a1e8324.jpg\n",
      "http://farm66.static.flickr.com/65535/50920090741_50bc305dbc.jpg\n",
      "http://farm66.static.flickr.com/65535/50920090071_33d38cef2c.jpg\n",
      "http://farm66.static.flickr.com/65535/50920221447_d7e312f963.jpg\n",
      "http://farm66.static.flickr.com/65535/50920220832_77376ea173.jpg\n",
      "http://farm66.static.flickr.com/65535/50920219987_7ccbc95759.jpg\n",
      "http://farm66.static.flickr.com/65535/50920219317_7d5a1c4733.jpg\n",
      "http://farm66.static.flickr.com/65535/50920086586_b7745e1740.jpg\n",
      "http://farm66.static.flickr.com/65535/50920086131_0d739ca2d4.jpg\n",
      "http://farm66.static.flickr.com/65535/50919394243_8197a7e968.jpg\n",
      "http://farm66.static.flickr.com/65535/50919393663_2f695c4131.jpg\n",
      "http://farm66.static.flickr.com/65535/50920084226_a41230fe56.jpg\n",
      "http://farm66.static.flickr.com/65535/50919392438_9505d9a3f0.jpg\n",
      "http://farm66.static.flickr.com/65535/50919391948_af0c17122c.jpg\n",
      "http://farm66.static.flickr.com/65535/50920082501_598d606854.jpg\n",
      "http://farm66.static.flickr.com/65535/50920082011_5ff53f0536.jpg\n",
      "http://farm66.static.flickr.com/65535/50920081371_38f628dc47.jpg\n",
      "http://farm0.static.flickr.com/0/50920076956_82b255eec4.jpg\n",
      "http://farm66.static.flickr.com/65535/50919389718_ff53cc7ddf.jpg\n",
      "http://farm66.static.flickr.com/65535/50920080111_704bbf6d04.jpg\n",
      "http://farm66.static.flickr.com/65535/50920211347_8718ebd763.jpg\n",
      "http://farm66.static.flickr.com/65535/50920210712_efceec6fa4.jpg\n",
      "http://farm66.static.flickr.com/65535/50920077911_76ca50e08d.jpg\n",
      "http://farm66.static.flickr.com/65535/50920209262_dd9d8a778a.jpg\n",
      "http://farm66.static.flickr.com/65535/50919385768_58b14c5c25.jpg\n",
      "http://farm66.static.flickr.com/65535/50920208137_a829e32bc3.jpg\n",
      "http://farm66.static.flickr.com/65535/50920075691_6764d4a3f3.jpg\n",
      "http://farm66.static.flickr.com/65535/50920075071_1dd16d2e2f.jpg\n",
      "http://farm66.static.flickr.com/65535/50919383578_114e8d44ce.jpg\n",
      "http://farm66.static.flickr.com/65535/50920205682_dff3d2623a.jpg\n",
      "http://farm66.static.flickr.com/65535/50920073471_ec09417b49.jpg\n",
      "http://farm66.static.flickr.com/65535/50920072806_2b7b30a9d1.jpg\n",
      "http://farm66.static.flickr.com/65535/50919381033_22b57aa5ca.jpg\n",
      "http://farm66.static.flickr.com/65535/50920056316_34399dc6e9.jpg\n",
      "http://farm66.static.flickr.com/65535/50920203062_c48e077356.jpg\n",
      "http://farm66.static.flickr.com/65535/50920202282_3c8d52cddf.jpg\n",
      "http://farm66.static.flickr.com/65535/50919378313_f7ac4ecc34.jpg\n",
      "http://farm66.static.flickr.com/65535/50920068586_062a61f30b.jpg\n",
      "http://farm66.static.flickr.com/65535/50920199677_99d1bf69ae.jpg\n",
      "http://farm66.static.flickr.com/65535/50920198777_8406124496.jpg\n",
      "http://farm66.static.flickr.com/65535/50920065861_24a7a5c37f.jpg\n",
      "http://farm66.static.flickr.com/65535/50920197192_5fba53e5dc.jpg\n",
      "http://farm66.static.flickr.com/65535/50920064281_7df077b71e.jpg\n",
      "http://farm66.static.flickr.com/65535/50920064276_c4d234196c.jpg\n",
      "http://farm66.static.flickr.com/65535/50919371813_d5264160a4.jpg\n",
      "http://farm66.static.flickr.com/65535/50920194282_8beeb682c1.jpg\n",
      "http://farm66.static.flickr.com/65535/50919370313_fb54500691.jpg\n",
      "http://farm66.static.flickr.com/65535/50919369593_98c23160c8.jpg\n",
      "http://farm66.static.flickr.com/65535/50920191937_64c4ec8f56.jpg\n",
      "http://farm66.static.flickr.com/65535/50920059431_3523cebdb5.jpg\n",
      "http://farm66.static.flickr.com/65535/50919367308_9410ddfe63.jpg\n",
      "http://farm66.static.flickr.com/65535/50920189312_4bf1da483f.jpg\n",
      "http://farm66.static.flickr.com/65535/50920188727_5e3bf2c917.jpg\n",
      "http://farm66.static.flickr.com/65535/50920188137_6aef57cd2e.jpg\n",
      "http://farm66.static.flickr.com/65535/50920056351_45a06328a4.jpg\n",
      "http://farm66.static.flickr.com/65535/50920042216_d326682b17.jpg\n",
      "http://farm66.static.flickr.com/65535/50920028996_8ab8af4662.jpg\n",
      "http://farm66.static.flickr.com/65535/50919336218_1acd49e196.jpg\n",
      "http://farm66.static.flickr.com/65535/50920155312_40cc186840.jpg\n",
      "http://farm66.static.flickr.com/65535/50919994236_3415a06120.jpg\n",
      "http://farm66.static.flickr.com/65535/50919289448_dff826ab69.jpg\n",
      "http://farm66.static.flickr.com/65535/50919287518_76e5268913.jpg\n",
      "http://farm66.static.flickr.com/65535/50920261307_59549f2de3.jpg\n"
     ]
    }
   ],
   "source": [
    "for p in flickr_response['photos']['photo']:\n",
    "    #print(p)\n",
    "    farm_id = p['farm']\n",
    "    server_id = p['server']\n",
    "    photo_id = p['id']\n",
    "    secret = p['secret']\n",
    "    photo_url = f'http://farm{farm_id}.static.flickr.com/{server_id}/{photo_id}_{secret}.jpg'\n",
    "    print(photo_url)"
   ]
  },
  {
   "cell_type": "code",
   "execution_count": null,
   "metadata": {},
   "outputs": [],
   "source": []
  }
 ],
 "metadata": {
  "kernelspec": {
   "display_name": "Python 3",
   "language": "python",
   "name": "python3"
  },
  "language_info": {
   "codemirror_mode": {
    "name": "ipython",
    "version": 3
   },
   "file_extension": ".py",
   "mimetype": "text/x-python",
   "name": "python",
   "nbconvert_exporter": "python",
   "pygments_lexer": "ipython3",
   "version": "3.8.3"
  }
 },
 "nbformat": 4,
 "nbformat_minor": 4
}
