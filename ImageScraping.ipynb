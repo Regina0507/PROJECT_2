{
 "cells": [
  {
   "cell_type": "code",
   "execution_count": 1,
   "metadata": {},
   "outputs": [],
   "source": [
    "# Import dependencies\n",
    "import pandas as pd\n",
    "import pymongo\n",
    "import requests\n",
    "from splinter import Browser\n",
    "from bs4 import BeautifulSoup\n",
    "from webdriver_manager.chrome import ChromeDriverManager"
   ]
  },
  {
   "cell_type": "code",
   "execution_count": 62,
   "metadata": {},
   "outputs": [
    {
     "data": {
      "text/html": [
       "<div>\n",
       "<style scoped>\n",
       "    .dataframe tbody tr th:only-of-type {\n",
       "        vertical-align: middle;\n",
       "    }\n",
       "\n",
       "    .dataframe tbody tr th {\n",
       "        vertical-align: top;\n",
       "    }\n",
       "\n",
       "    .dataframe thead th {\n",
       "        text-align: right;\n",
       "    }\n",
       "</style>\n",
       "<table border=\"1\" class=\"dataframe\">\n",
       "  <thead>\n",
       "    <tr style=\"text-align: right;\">\n",
       "      <th></th>\n",
       "      <th>County or equivalent</th>\n",
       "      <th>State or district</th>\n",
       "    </tr>\n",
       "  </thead>\n",
       "  <tbody>\n",
       "    <tr>\n",
       "      <th>0</th>\n",
       "      <td>Autauga County</td>\n",
       "      <td>Alabama</td>\n",
       "    </tr>\n",
       "    <tr>\n",
       "      <th>1</th>\n",
       "      <td>Baldwin County</td>\n",
       "      <td>Alabama</td>\n",
       "    </tr>\n",
       "    <tr>\n",
       "      <th>2</th>\n",
       "      <td>Barbour County</td>\n",
       "      <td>Alabama</td>\n",
       "    </tr>\n",
       "    <tr>\n",
       "      <th>3</th>\n",
       "      <td>Bibb County</td>\n",
       "      <td>Alabama</td>\n",
       "    </tr>\n",
       "    <tr>\n",
       "      <th>4</th>\n",
       "      <td>Blount County</td>\n",
       "      <td>Alabama</td>\n",
       "    </tr>\n",
       "  </tbody>\n",
       "</table>\n",
       "</div>"
      ],
      "text/plain": [
       "  County or equivalent State or district\n",
       "0       Autauga County           Alabama\n",
       "1       Baldwin County           Alabama\n",
       "2       Barbour County           Alabama\n",
       "3          Bibb County           Alabama\n",
       "4        Blount County           Alabama"
      ]
     },
     "execution_count": 62,
     "metadata": {},
     "output_type": "execute_result"
    }
   ],
   "source": [
    "counties = pd.read_excel('list-counties-us.xlsx')\n",
    "counties.head()"
   ]
  },
  {
   "cell_type": "code",
   "execution_count": 63,
   "metadata": {},
   "outputs": [
    {
     "data": {
      "text/plain": [
       "0    Autauga_County,_Alabama\n",
       "1    Baldwin_County,_Alabama\n",
       "2    Barbour_County,_Alabama\n",
       "3       Bibb_County,_Alabama\n",
       "4     Blount_County,_Alabama\n",
       "dtype: object"
      ]
     },
     "execution_count": 63,
     "metadata": {},
     "output_type": "execute_result"
    }
   ],
   "source": [
    "county_name = counties['County or equivalent'].str.replace(' ','_')\n",
    "county_name.head()\n",
    "\n",
    "state_name = counties['State or district']\n",
    "state_name.head()\n",
    "\n",
    "countyfullname = county_name + ',_' + state_name\n",
    "countyfullname.head()"
   ]
  },
  {
   "cell_type": "code",
   "execution_count": 64,
   "metadata": {},
   "outputs": [
    {
     "name": "stdout",
     "output_type": "stream",
     "text": [
      "0     Autauga_County,_Alabama\n",
      "1     Baldwin_County,_Alabama\n",
      "2     Barbour_County,_Alabama\n",
      "3        Bibb_County,_Alabama\n",
      "4      Blount_County,_Alabama\n",
      "5     Bullock_County,_Alabama\n",
      "6      Butler_County,_Alabama\n",
      "7     Calhoun_County,_Alabama\n",
      "8    Chambers_County,_Alabama\n",
      "9    Cherokee_County,_Alabama\n",
      "dtype: object\n",
      " "
     ]
    },
    {
     "name": "stderr",
     "output_type": "stream",
     "text": [
      "[WDM] - Current google-chrome version is 88.0.4324\n",
      "[WDM] - Get LATEST driver version for 88.0.4324\n",
      "[WDM] - Driver [C:\\Users\\Regina\\.wdm\\drivers\\chromedriver\\win32\\88.0.4324.96\\chromedriver.exe] found in cache\n"
     ]
    },
    {
     "name": "stdout",
     "output_type": "stream",
     "text": [
      "\n"
     ]
    }
   ],
   "source": [
    "# URL of page to be scraped  \n",
    "reviews_list = []\n",
    "\n",
    "#list of counties\n",
    "counties = countyfullname [:10] \n",
    "print(counties)\n",
    "executable_path = {'executable_path': ChromeDriverManager().install()}\n",
    "browser = Browser('chrome', **executable_path, headless=False)"
   ]
  },
  {
   "cell_type": "code",
   "execution_count": 54,
   "metadata": {},
   "outputs": [
    {
     "name": "stdout",
     "output_type": "stream",
     "text": [
      "https://en.wikipedia.org/wiki/Autauga_County,_Alabama\n",
      "https://en.wikipedia.org/wiki/Baldwin_County,_Alabama\n",
      "https://en.wikipedia.org/wiki/Barbour_County,_Alabama\n",
      "https://en.wikipedia.org/wiki/Bibb_County,_Alabama\n",
      "https://en.wikipedia.org/wiki/Blount_County,_Alabama\n",
      "https://en.wikipedia.org/wiki/Bullock_County,_Alabama\n",
      "https://en.wikipedia.org/wiki/Butler_County,_Alabama\n",
      "https://en.wikipedia.org/wiki/Calhoun_County,_Alabama\n",
      "https://en.wikipedia.org/wiki/Chambers_County,_Alabama\n",
      "https://en.wikipedia.org/wiki/Cherokee_County,_Alabama\n"
     ]
    }
   ],
   "source": [
    "for county in counties:\n",
    "\n",
    "    \n",
    "    url = f'https://en.wikipedia.org/wiki/{county}'\n",
    "    print(url)\n",
    "    \n",
    "   \n",
    "    #------splinter\n",
    "    browser.visit(url)\n",
    "    #time.sleep(3) # Sleep for 3 seconds\n",
    "    html = browser.html\n",
    "    #Create BeautifulSoup object; parse with 'html.parser'\n",
    "    img_soup = BeautifulSoup(html, 'html.parser')\n",
    "    "
   ]
  },
  {
   "cell_type": "code",
   "execution_count": 46,
   "metadata": {},
   "outputs": [
    {
     "name": "stdout",
     "output_type": "stream",
     "text": [
      "'NoneType' object has no attribute 'find'\n"
     ]
    },
    {
     "ename": "NameError",
     "evalue": "name 'countyf' is not defined",
     "output_type": "error",
     "traceback": [
      "\u001b[1;31m---------------------------------------------------------------------------\u001b[0m",
      "\u001b[1;31mNameError\u001b[0m                                 Traceback (most recent call last)",
      "\u001b[1;32m<ipython-input-46-9ca4c6d047a9>\u001b[0m in \u001b[0;36m<module>\u001b[1;34m\u001b[0m\n\u001b[0;32m     22\u001b[0m \u001b[1;33m\u001b[0m\u001b[0m\n\u001b[0;32m     23\u001b[0m review_dict = {\n\u001b[1;32m---> 24\u001b[1;33m     \u001b[1;34m'countyf'\u001b[0m\u001b[1;33m:\u001b[0m \u001b[0mcountyf\u001b[0m\u001b[1;33m,\u001b[0m\u001b[1;33m\u001b[0m\u001b[1;33m\u001b[0m\u001b[0m\n\u001b[0m\u001b[0;32m     25\u001b[0m \u001b[1;33m\u001b[0m\u001b[0m\n\u001b[0;32m     26\u001b[0m     \u001b[1;34m'image'\u001b[0m\u001b[1;33m:\u001b[0m \u001b[0mimage\u001b[0m\u001b[1;33m,\u001b[0m\u001b[1;33m\u001b[0m\u001b[1;33m\u001b[0m\u001b[0m\n",
      "\u001b[1;31mNameError\u001b[0m: name 'countyf' is not defined"
     ]
    }
   ],
   "source": [
    "    try:\n",
    "        countyname = ''\n",
    "       # image_url   = ''\n",
    "       \n",
    "   \n",
    "    except:\n",
    "        pass\n",
    "\n",
    "    try:\n",
    "        county_container = img_soup.find('div', class_=\"fn.org\")\n",
    "        # Identify and return comments, date, place, county of reviews\n",
    "        countyname = county_container.find('span').text\n",
    "        \n",
    "        image = img_soup.find('img',' ').text\n",
    "        \n",
    "        image_title = img_soup.find('div', class_=).text\n",
    "        \n",
    "       # county = review_soup.find('div', class_=\"global-nav__input-wrap__sherlock-overlay\").text\n",
    "            \n",
    "    except Exception as e:\n",
    "        print(e)\n",
    "        \n",
    "    review_dict = {\n",
    "        'countyname': countyname,\n",
    "      \n",
    "        'image': image,\n",
    "       \n",
    "      \n",
    "        'image_title': image_title\n",
    "    }    \n",
    "    "
   ]
  },
  {
   "cell_type": "code",
   "execution_count": 34,
   "metadata": {},
   "outputs": [
    {
     "ename": "IndentationError",
     "evalue": "unexpected indent (<ipython-input-34-2310f164ed4f>, line 3)",
     "output_type": "error",
     "traceback": [
      "\u001b[1;36m  File \u001b[1;32m\"<ipython-input-34-2310f164ed4f>\"\u001b[1;36m, line \u001b[1;32m3\u001b[0m\n\u001b[1;33m    return featured_image_url\u001b[0m\n\u001b[1;37m    ^\u001b[0m\n\u001b[1;31mIndentationError\u001b[0m\u001b[1;31m:\u001b[0m unexpected indent\n"
     ]
    }
   ],
   "source": [
    " img_elem = img_soup.find('div', 'fn.org').text"
   ]
  },
  {
   "cell_type": "code",
   "execution_count": null,
   "metadata": {},
   "outputs": [],
   "source": []
  }
 ],
 "metadata": {
  "kernelspec": {
   "display_name": "Python 3",
   "language": "python",
   "name": "python3"
  },
  "language_info": {
   "codemirror_mode": {
    "name": "ipython",
    "version": 3
   },
   "file_extension": ".py",
   "mimetype": "text/x-python",
   "name": "python",
   "nbconvert_exporter": "python",
   "pygments_lexer": "ipython3",
   "version": "3.8.3"
  }
 },
 "nbformat": 4,
 "nbformat_minor": 4
}
